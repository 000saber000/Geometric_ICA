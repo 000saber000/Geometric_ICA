{
 "cells": [
  {
   "cell_type": "markdown",
   "id": "dd141971-32d9-4aa8-8167-9e0069fef5ed",
   "metadata": {},
   "source": [
    "# A sinusoidal source and a square pulse source with the same frequencies and different initial phases\n"
   ]
  },
  {
   "cell_type": "markdown",
   "id": "530c8159-b6a5-4e93-9113-177bd2bbb9dc",
   "metadata": {},
   "source": [
    "# Import necessary libraries"
   ]
  },
  {
   "cell_type": "code",
   "execution_count": 3,
   "id": "647346be-580e-4848-94a4-1d28fc6da728",
   "metadata": {
    "tags": []
   },
   "outputs": [],
   "source": [
    "from scipy import signal\n",
    "import numpy as np\n",
    "import matplotlib.pyplot as plt\n",
    "from scipy import spatial\n"
   ]
  },
  {
   "cell_type": "markdown",
   "id": "5a027470-bcdf-442b-9c85-5c28794ee453",
   "metadata": {},
   "source": [
    "# Define Function to plot scatterplot"
   ]
  },
  {
   "cell_type": "code",
   "execution_count": 4,
   "id": "432da14e-5cb3-4894-b825-facb3b4164b8",
   "metadata": {
    "tags": []
   },
   "outputs": [],
   "source": [
    "def geometrical(a,s):\n",
    "    x = np.matmul(a,s)\n",
    "    x1 = x[0]\n",
    "    x2 = x[1]\n",
    "    x1 = np.asarray(x1).ravel()\n",
    "    x2 = np.asarray(x2).ravel()\n",
    "    plt.scatter(x1,x2)\n",
    "    plt.ylabel('x2')\n",
    "    plt.xlabel('x1')                                                                           \n",
    "    plt.show()   \n",
    "    return 0\n"
   ]
  },
  {
   "cell_type": "markdown",
   "id": "663287f3-eb73-4811-9666-4e3505f37824",
   "metadata": {},
   "source": [
    "# Define function to find two most far away point of eachother"
   ]
  },
  {
   "cell_type": "code",
   "execution_count": 5,
   "id": "cf3b3066-d683-4fc2-b4b4-4723222370b2",
   "metadata": {
    "tags": []
   },
   "outputs": [],
   "source": [
    "import numpy as np\n",
    "from scipy import spatial\n",
    "\n",
    "def max_distance_pair(a,s):\n",
    "    x = np.matmul(a,s)\n",
    "    x = x.T\n",
    "    candidates = x[spatial.ConvexHull(x).vertices]\n",
    "    dist_mat = spatial.distance_matrix(candidates, candidates)\n",
    "    i, j = np.unravel_index(dist_mat.argmax(), dist_mat.shape)\n",
    "    print(candidates[i], candidates[j])"
   ]
  },
  {
   "cell_type": "markdown",
   "id": "49e52910-9822-432e-befd-61e2555c3d65",
   "metadata": {},
   "source": [
    "# Definition function to plot a line between two most far away point"
   ]
  },
  {
   "cell_type": "code",
   "execution_count": 6,
   "id": "5abf52d8-f2f4-46fd-9682-9f448c7400ba",
   "metadata": {
    "tags": []
   },
   "outputs": [],
   "source": [
    "def plot_line(ponit1,ponit2,source1,source2):\n",
    "    \n",
    "    x_values = [point1[0], point2[0]]\n",
    "    y_values = [point1[1], point2[1]]\n",
    "    plt.scatter(x_values, y_values)\n",
    "    plt.plot(x_values, y_values)\n",
    "    a1 = np.array([[1,0.5],[-0.7,1]])\n",
    "    s = np.asmatrix([source1,source2])\n",
    "    geometrical(a1,s)\n",
    "    plt.show()\n"
   ]
  },
  {
   "cell_type": "markdown",
   "id": "87589938-a981-45ce-874b-a446148509fe",
   "metadata": {},
   "source": [
    "# Define function to get the coordinates of two points far from each other"
   ]
  },
  {
   "cell_type": "code",
   "execution_count": 7,
   "id": "f7de601e-a394-4290-a048-f0b0909cb3ee",
   "metadata": {
    "tags": []
   },
   "outputs": [],
   "source": [
    "\n",
    "def farest_point_of_line (a,s):\n",
    "    x = np.matmul(a,s)\n",
    "    x1 = x[0]\n",
    "    x2 = x[1]\n",
    "    x1 = np.asarray(x1).ravel()\n",
    "    x2 = np.asarray(x2).ravel()\n",
    "    m = max(x1)\n",
    "    n = np.where(x1==m)\n",
    "    n =  n[0]\n",
    "    k = x2[n]\n",
    "    return [m,k[0]]"
   ]
  },
  {
   "cell_type": "markdown",
   "id": "d4f37f0c-bb5e-41f7-8abc-674d3366b863",
   "metadata": {},
   "source": [
    "# Define function to calculate the slope between two points"
   ]
  },
  {
   "cell_type": "code",
   "execution_count": 8,
   "id": "27f88f4c-e05f-42e7-b61b-2423685b37ae",
   "metadata": {
    "tags": []
   },
   "outputs": [],
   "source": [
    "def slope(p1,p2):\n",
    "    m = (p2[1] - p1[1])/(p2[0] - p1[0])\n",
    "    return m"
   ]
  },
  {
   "cell_type": "markdown",
   "id": "a2e100c2-d05e-4cb2-95e7-8a8880569a6f",
   "metadata": {},
   "source": [
    "# Define separation function"
   ]
  },
  {
   "cell_type": "code",
   "execution_count": 9,
   "id": "b5ed3839-2ccd-4cba-9e20-c4ff8a9f5f0e",
   "metadata": {
    "tags": []
   },
   "outputs": [],
   "source": [
    "\n",
    "def sepration(a,b):\n",
    "    A1 = np.array([[1,a],[b,1]])\n",
    "    A1_inv = np.linalg.inv(A1)\n",
    "    S = np.matmul(A1_inv,x)\n",
    "    return S\n",
    "    "
   ]
  },
  {
   "cell_type": "markdown",
   "id": "3a4c252e-261e-4e5f-8778-241d30844432",
   "metadata": {},
   "source": [
    "# Define MSE\n"
   ]
  },
  {
   "cell_type": "code",
   "execution_count": 10,
   "id": "7fe22e6a-c13c-435a-9cd5-20a9c6e48ba4",
   "metadata": {
    "tags": []
   },
   "outputs": [],
   "source": [
    "\n",
    "def mse(actual, predicted):\n",
    "    actual = np.array(actual)\n",
    "    predicted = np.array(predicted)\n",
    "    differences = np.subtract(actual, predicted)\n",
    "    squared_differences = np.square(differences)\n",
    "    return squared_differences.mean()"
   ]
  },
  {
   "cell_type": "markdown",
   "id": "8c5cef43-1918-46b7-91ca-f175c665fc24",
   "metadata": {},
   "source": [
    "# Define Function to plot output"
   ]
  },
  {
   "cell_type": "code",
   "execution_count": 11,
   "id": "d26cae4a-25f8-417a-8a0b-366b1b8d6e72",
   "metadata": {
    "tags": []
   },
   "outputs": [],
   "source": [
    "\n",
    "def output_geometrical(s):\n",
    "    s1 = s[0]\n",
    "    s2 = s[1]\n",
    "    s1 = np.asarray(s1).ravel()\n",
    "    s2 = np.asarray(s2).ravel()\n",
    "    plt.scatter(s1,s2)\n",
    "    plt.ylabel('s2')\n",
    "    plt.xlabel('s1')                                                                           \n",
    "    plt.show()   \n",
    "    return 0\n"
   ]
  },
  {
   "cell_type": "code",
   "execution_count": 12,
   "id": "3358707c-1558-427a-860c-6b23defc541d",
   "metadata": {},
   "outputs": [
    {
     "data": {
      "image/png": "[encoded data removed]",
      "text/plain": [
       "<Figure size 720x288 with 1 Axes>"
      ]
     },
     "metadata": {
      "needs_background": "light"
     },
     "output_type": "display_data"
    }
   ],
   "source": [
    "\n",
    "\n",
    "t = np.linspace(0, 1, 1000, endpoint=False)\n",
    "pulse = signal.square(10 * np.pi * t)\n",
    "sin = np.sin(10 * np.pi * t + np.pi/4 )\n",
    "\n",
    "\n",
    "plt.figure(figsize = (10,4))\n",
    "plt.plot(t,pulse, 'b')\n",
    "plt.plot(t,sin, 'r')\n",
    "plt.ylabel('Amplitude')\n",
    "plt.xlabel('sin & pulse')\n",
    "plt.ylim(-2,2)\n",
    "plt.show()\n"
   ]
  },
  {
   "cell_type": "code",
   "execution_count": 13,
   "id": "e3a36ab9-a0db-4830-91ea-da621ed24c70",
   "metadata": {
    "tags": []
   },
   "outputs": [
    {
     "data": {
      "image/png": "[encoded data removed]",
      "text/plain": [
       "<Figure size 432x288 with 1 Axes>"
      ]
     },
     "metadata": {
      "needs_background": "light"
     },
     "output_type": "display_data"
    }
   ],
   "source": [
    "\n",
    "plt.scatter(pulse , sin)\n",
    "plt.show()"
   ]
  },
  {
   "cell_type": "code",
   "execution_count": 14,
   "id": "5cbe24bd-3633-4890-aaef-17b4de47864d",
   "metadata": {
    "tags": []
   },
   "outputs": [
    {
     "data": {
      "image/png": "[encoded data removed]",
      "text/plain": [
       "<Figure size 432x288 with 1 Axes>"
      ]
     },
     "metadata": {
      "needs_background": "light"
     },
     "output_type": "display_data"
    },
    {
     "data": {
      "text/plain": [
       "0"
      ]
     },
     "execution_count": 14,
     "metadata": {},
     "output_type": "execute_result"
    }
   ],
   "source": [
    "a1 = np.array([[1,0.5],[-0.7,1]])\n",
    "s = np.asmatrix([pulse , sin])\n",
    "x = np.matmul(a1,s)\n",
    "geometrical(a1,s)"
   ]
  },
  {
   "cell_type": "markdown",
   "id": "a3c003ca-3387-4e68-abe4-d008693efc4c",
   "metadata": {},
   "source": [
    "# Finding two far away points"
   ]
  },
  {
   "cell_type": "code",
   "execution_count": 15,
   "id": "96b03dbf-aba3-4cd7-899c-aa0608ff1c2f",
   "metadata": {
    "tags": []
   },
   "outputs": [
    {
     "name": "stdout",
     "output_type": "stream",
     "text": [
      "[[ 0.65772645 -1.38454711]] [[-0.65772645  1.38454711]]\n"
     ]
    }
   ],
   "source": [
    "a1 = np.array([[1,0.5],[-0.7,1]])\n",
    "s = np.asmatrix([pulse , sin])\n",
    "max_distance_pair(a1,s)"
   ]
  },
  {
   "cell_type": "code",
   "execution_count": 16,
   "id": "c371dc45-274a-458a-9fea-271f61a20e93",
   "metadata": {
    "tags": []
   },
   "outputs": [
    {
     "data": {
      "image/png": "[encoded data removed]",
      "text/plain": [
       "<Figure size 432x288 with 1 Axes>"
      ]
     },
     "metadata": {
      "needs_background": "light"
     },
     "output_type": "display_data"
    }
   ],
   "source": [
    "point1 = [ 0.65772645, -1.38454711]\n",
    "point2 = [-0.65772645 , 1.38454711]\n",
    "plot_line(point1,point2,pulse , sin)"
   ]
  },
  {
   "cell_type": "code",
   "execution_count": 17,
   "id": "8f8a25ba-c186-4542-a290-07b7c52d26ab",
   "metadata": {
    "tags": []
   },
   "outputs": [
    {
     "data": {
      "text/plain": [
       "[1.5, 0.30000000000000004]"
      ]
     },
     "execution_count": 17,
     "metadata": {},
     "output_type": "execute_result"
    }
   ],
   "source": [
    "farest_point_of_line(a1,s)"
   ]
  },
  {
   "cell_type": "code",
   "execution_count": 18,
   "id": "11dff56b-826f-44e2-80a4-9b6622188020",
   "metadata": {
    "tags": []
   },
   "outputs": [],
   "source": [
    "# Three points are the corners of parallelograms\n",
    "point1 = [ 0.65772645, -1.38454711]\n",
    "point2 = [-0.65772645 , 1.38454711]\n",
    "point3 = [1.5, 0.30000000000000004]\n"
   ]
  },
  {
   "cell_type": "markdown",
   "id": "a4ea9621-180a-4b7d-ac45-8acf4140998e",
   "metadata": {},
   "source": [
    "# Define Slope\n"
   ]
  },
  {
   "cell_type": "code",
   "execution_count": 18,
   "id": "15592082-c437-4ed7-848b-4c464e42861d",
   "metadata": {
    "tags": []
   },
   "outputs": [],
   "source": [
    "def slope(p1,p2):\n",
    "    m = (p2[1] - p1[1])/(p2[0] - p1[0])\n",
    "    return m"
   ]
  },
  {
   "cell_type": "code",
   "execution_count": 19,
   "id": "ce193a2b-1b33-4b4b-9187-e547ef1a374c",
   "metadata": {
    "tags": []
   },
   "outputs": [
    {
     "name": "stdout",
     "output_type": "stream",
     "text": [
      "0.49999999703184317 ,,,, -0.5026342009201398\n"
     ]
    }
   ],
   "source": [
    "# Obtaining mixed matrix values\n",
    "a = 1 / slope(point1,point3)\n",
    "b = slope(point2,point3)\n",
    "print(a,',,,,',b)"
   ]
  },
  {
   "cell_type": "code",
   "execution_count": 20,
   "id": "b5bdee42-b78e-40af-8b67-4e36c7839a87",
   "metadata": {
    "tags": []
   },
   "outputs": [
    {
     "data": {
      "text/plain": [
       "matrix([[ 1.07886322,  1.07886322,  1.07886322, ..., -1.07886322,\n",
       "         -1.07886322, -1.07886322],\n",
       "        [ 0.54938034,  0.57124218,  0.59238462, ...,  0.79515044,\n",
       "          0.81903831,  0.84227355]])"
      ]
     },
     "execution_count": 20,
     "metadata": {},
     "output_type": "execute_result"
    }
   ],
   "source": [
    "S = sepration(a,b)\n",
    "S"
   ]
  },
  {
   "cell_type": "code",
   "execution_count": 21,
   "id": "30f6581a-e5cb-493b-929e-1966ab6b7899",
   "metadata": {
    "tags": []
   },
   "outputs": [
    {
     "data": {
      "image/png": "[encoded data removed]",
      "text/plain": [
       "<Figure size 720x288 with 1 Axes>"
      ]
     },
     "metadata": {
      "needs_background": "light"
     },
     "output_type": "display_data"
    },
    {
     "data": {
      "image/png": "[encoded data removed]",
      "text/plain": [
       "<Figure size 720x288 with 1 Axes>"
      ]
     },
     "metadata": {
      "needs_background": "light"
     },
     "output_type": "display_data"
    }
   ],
   "source": [
    "t = np.linspace(0, 1, 1000, endpoint=False)\n",
    "pulse = signal.square(10 * np.pi * t)\n",
    "sin = np.sin(10 * np.pi * t + np.pi/4 )\n",
    "plt.figure(figsize = (10,4))\n",
    "plt.plot(t,pulse, 'b')\n",
    "plt.plot(t,sin, 'r')\n",
    "plt.ylabel('Amplitude')\n",
    "plt.xlabel('input')\n",
    "plt.ylim(-2,2)\n",
    "plt.show()\n",
    "\n",
    "\n",
    "###############################\n",
    "\n",
    "Pulse = S[0] \n",
    "Sin = S[1]\n",
    "Pulse = np.asarray(Pulse).ravel()\n",
    "Sin = np.asarray(Sin).ravel()\n",
    "t = np.linspace(0, 1, 1000, endpoint=False)\n",
    "plt.figure(figsize = (10,4))\n",
    "plt.plot(t,Pulse, 'b')\n",
    "plt.plot(t,Sin, 'r')\n",
    "plt.ylabel('Amplitude')\n",
    "plt.xlabel('Output')\n",
    "plt.ylim(-2,2)\n",
    "plt.show()\n",
    "\n",
    "\n",
    "\n",
    "\n"
   ]
  },
  {
   "cell_type": "markdown",
   "id": "952da8e8-9218-4c33-81f8-79930ead6590",
   "metadata": {},
   "source": [
    "# Plot scatterplot of output"
   ]
  },
  {
   "cell_type": "code",
   "execution_count": 22,
   "id": "82cf21f7-30e4-403e-94ed-4e44e2f6b6ae",
   "metadata": {
    "tags": []
   },
   "outputs": [
    {
     "data": {
      "image/png": "[encoded data removed]",
      "text/plain": [
       "<Figure size 432x288 with 1 Axes>"
      ]
     },
     "metadata": {
      "needs_background": "light"
     },
     "output_type": "display_data"
    },
    {
     "data": {
      "text/plain": [
       "0"
      ]
     },
     "execution_count": 22,
     "metadata": {},
     "output_type": "execute_result"
    }
   ],
   "source": [
    "output_geometrical(S)"
   ]
  },
  {
   "cell_type": "code",
   "execution_count": 23,
   "id": "2520ee38-15fb-4783-8d6d-657394a40f24",
   "metadata": {
    "tags": []
   },
   "outputs": [
    {
     "data": {
      "text/plain": [
       "0.015548519855404277"
      ]
     },
     "execution_count": 23,
     "metadata": {},
     "output_type": "execute_result"
    }
   ],
   "source": [
    "mse(s,S)"
   ]
  },
  {
   "cell_type": "code",
   "execution_count": null,
   "id": "737b6075-b718-4ac4-b753-1153ff8e6d3b",
   "metadata": {},
   "outputs": [],
   "source": []
  }
 ],
 "metadata": {
  "kernelspec": {
   "display_name": "Python 3",
   "language": "python",
   "name": "python3"
  },
  "language_info": {
   "codemirror_mode": {
    "name": "ipython",
    "version": 3
   },
   "file_extension": ".py",
   "mimetype": "text/x-python",
   "name": "python",
   "nbconvert_exporter": "python",
   "pygments_lexer": "ipython3",
   "version": "3.7.16"
  }
 },
 "nbformat": 4,
 "nbformat_minor": 5
}
